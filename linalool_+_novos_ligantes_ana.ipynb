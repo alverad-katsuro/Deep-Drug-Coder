{
 "cells": [
  {
   "cell_type": "code",
   "execution_count": 1,
   "id": "c9cbc902-f865-4029-93d0-8c87b5638215",
   "metadata": {},
   "outputs": [],
   "source": [
    "import numpy as np\n",
    "import pickle\n",
    "import pandas as pd\n",
    "pd.set_option('display.float_format', lambda x: '%.3f' % x)"
   ]
  },
  {
   "cell_type": "code",
   "execution_count": 2,
   "id": "1c6cd8b1-7a17-4cb4-a399-baf16c9f3b9d",
   "metadata": {},
   "outputs": [],
   "source": [
    "import sqlite3"
   ]
  },
  {
   "cell_type": "code",
   "execution_count": 3,
   "id": "22506d43-b259-4eaf-b124-ece8bebdc7f2",
   "metadata": {},
   "outputs": [],
   "source": [
    "import sys\n",
    "sys.path.append(\"../chembl_analyser/module/\")\n",
    "from calcula_tanimoto import *"
   ]
  },
  {
   "cell_type": "code",
   "execution_count": 4,
   "id": "7a975908-4028-4494-963e-8ce612157ac5",
   "metadata": {},
   "outputs": [],
   "source": [
    "from rdkit import Chem, DataStructs\n",
    "from rdkit.Chem import Descriptors, rdMolDescriptors, AllChem, QED\n",
    "from rdkit.Chem.Draw import IPythonConsole\n",
    "from rdkit.Chem import Draw\n",
    "#We suppres stdout from invalid smiles and validations\n",
    "from rdkit import rdBase\n",
    "rdBase.DisableLog ( 'rdApp.*')"
   ]
  },
  {
   "cell_type": "code",
   "execution_count": 5,
   "id": "956b454b-ff77-48ab-bc7c-ea91efba6fe2",
   "metadata": {},
   "outputs": [],
   "source": [
    "smiles_target = \"C=C[C@](C)(O)CCC=C(C)C\""
   ]
  },
  {
   "cell_type": "code",
   "execution_count": 6,
   "id": "77eb875e-c689-4458-be86-8f4ae1ed695a",
   "metadata": {},
   "outputs": [
    {
     "data": {
      "image/png": "[encoded data removed]",
      "text/plain": [
       "<rdkit.Chem.rdchem.Mol at 0x148ce5ac4490>"
      ]
     },
     "metadata": {},
     "output_type": "display_data"
    }
   ],
   "source": [
    "mol = Chem.MolFromSmiles(smiles_target)\n",
    "display(mol)"
   ]
  },
  {
   "cell_type": "code",
   "execution_count": 7,
   "id": "ef6f6f09-8009-48e4-9e09-7c3b3c3f96a5",
   "metadata": {},
   "outputs": [],
   "source": [
    "con_ligs = sqlite3.connect(\"ligantes_linalool+.db\")"
   ]
  },
  {
   "cell_type": "code",
   "execution_count": 31,
   "id": "ee9ed4b9-1724-4602-84d7-e64379a465cc",
   "metadata": {},
   "outputs": [],
   "source": [
    "data = pd.read_sql(\"select * from novos_ligantes_v2\", con_ligs)"
   ]
  },
  {
   "cell_type": "code",
   "execution_count": 32,
   "id": "8560ccc7-d3c7-45be-b239-11844fd3d2fd",
   "metadata": {},
   "outputs": [
    {
     "data": {
      "text/plain": [
       "31"
      ]
     },
     "execution_count": 32,
     "metadata": {},
     "output_type": "execute_result"
    }
   ],
   "source": [
    "len(data.loc[data.Smiles.str.contains('#')].sort_values(by='active_probability', ascending=False))"
   ]
  },
  {
   "cell_type": "code",
   "execution_count": 33,
   "id": "9b351694-acf9-4674-b8b9-d7bb1c4c3dd0",
   "metadata": {},
   "outputs": [],
   "source": [
    "data = data.round(4)"
   ]
  },
  {
   "cell_type": "code",
   "execution_count": 34,
   "id": "1f58484a-5050-43e6-8db5-e4e355316ff9",
   "metadata": {},
   "outputs": [
    {
     "data": {
      "text/html": [
       "<div>\n",
       "<style scoped>\n",
       "    .dataframe tbody tr th:only-of-type {\n",
       "        vertical-align: middle;\n",
       "    }\n",
       "\n",
       "    .dataframe tbody tr th {\n",
       "        vertical-align: top;\n",
       "    }\n",
       "\n",
       "    .dataframe thead th {\n",
       "        text-align: right;\n",
       "    }\n",
       "</style>\n",
       "<table border=\"1\" class=\"dataframe\">\n",
       "  <thead>\n",
       "    <tr style=\"text-align: right;\">\n",
       "      <th></th>\n",
       "      <th>Smiles</th>\n",
       "      <th>logp</th>\n",
       "      <th>tpsa</th>\n",
       "      <th>molwt</th>\n",
       "      <th>qed</th>\n",
       "      <th>hba</th>\n",
       "      <th>hbd</th>\n",
       "      <th>active_probability</th>\n",
       "      <th>i_tanimoto</th>\n",
       "    </tr>\n",
       "  </thead>\n",
       "  <tbody>\n",
       "    <tr>\n",
       "      <td>19568</td>\n",
       "      <td>CCC(C)=CCCC(C)(C)O</td>\n",
       "      <td>2.8938000000000015</td>\n",
       "      <td>20.23</td>\n",
       "      <td>156.15141526</td>\n",
       "      <td>0.6204269925147669</td>\n",
       "      <td>1</td>\n",
       "      <td>1</td>\n",
       "      <td>0.0006264503832761266</td>\n",
       "      <td>0.670</td>\n",
       "    </tr>\n",
       "    <tr>\n",
       "      <td>19945</td>\n",
       "      <td>CCC(C)=CCCC(C)(C)O</td>\n",
       "      <td>2.8938000000000015</td>\n",
       "      <td>20.23</td>\n",
       "      <td>156.15141526</td>\n",
       "      <td>0.6204269925147667</td>\n",
       "      <td>1</td>\n",
       "      <td>1</td>\n",
       "      <td>0.0006264503832761266</td>\n",
       "      <td>0.670</td>\n",
       "    </tr>\n",
       "    <tr>\n",
       "      <td>20535</td>\n",
       "      <td>CC(C)=CC(C)CC(C)(C)O</td>\n",
       "      <td>2.7497000000000016</td>\n",
       "      <td>20.23</td>\n",
       "      <td>156.15141526</td>\n",
       "      <td>0.6228561127376835</td>\n",
       "      <td>1</td>\n",
       "      <td>1</td>\n",
       "      <td>1.1249092470390622e-05</td>\n",
       "      <td>0.660</td>\n",
       "    </tr>\n",
       "    <tr>\n",
       "      <td>7134</td>\n",
       "      <td>CC(C)=CC(C)CC(C)(C)O</td>\n",
       "      <td>2.7497000000000007</td>\n",
       "      <td>20.23</td>\n",
       "      <td>156.15141526</td>\n",
       "      <td>0.6228561127376834</td>\n",
       "      <td>1</td>\n",
       "      <td>1</td>\n",
       "      <td>1.1249092470390622e-05</td>\n",
       "      <td>0.660</td>\n",
       "    </tr>\n",
       "    <tr>\n",
       "      <td>19537</td>\n",
       "      <td>CC(C)=CCCC1(O)CCC1</td>\n",
       "      <td>2.647800000000001</td>\n",
       "      <td>20.23</td>\n",
       "      <td>154.135765196</td>\n",
       "      <td>0.6194978897239473</td>\n",
       "      <td>1</td>\n",
       "      <td>1</td>\n",
       "      <td>0.0001469893623268397</td>\n",
       "      <td>0.540</td>\n",
       "    </tr>\n",
       "    <tr>\n",
       "      <td>...</td>\n",
       "      <td>...</td>\n",
       "      <td>...</td>\n",
       "      <td>...</td>\n",
       "      <td>...</td>\n",
       "      <td>...</td>\n",
       "      <td>...</td>\n",
       "      <td>...</td>\n",
       "      <td>...</td>\n",
       "      <td>...</td>\n",
       "    </tr>\n",
       "    <tr>\n",
       "      <td>4226</td>\n",
       "      <td>Oc1ccc(C(F)(F)F)cc1</td>\n",
       "      <td>2.4109999999999996</td>\n",
       "      <td>20.23</td>\n",
       "      <td>162.02924944</td>\n",
       "      <td>0.6205760233110342</td>\n",
       "      <td>1</td>\n",
       "      <td>1</td>\n",
       "      <td>0.0006168121049267209</td>\n",
       "      <td>0.010</td>\n",
       "    </tr>\n",
       "    <tr>\n",
       "      <td>1181</td>\n",
       "      <td>Nc1ccccc1C(F)F</td>\n",
       "      <td>2.2064000000000004</td>\n",
       "      <td>26.02</td>\n",
       "      <td>143.054655664</td>\n",
       "      <td>0.5990066223887058</td>\n",
       "      <td>1</td>\n",
       "      <td>1</td>\n",
       "      <td>6.228611297893845e-05</td>\n",
       "      <td>0.000</td>\n",
       "    </tr>\n",
       "    <tr>\n",
       "      <td>8826</td>\n",
       "      <td>N=Nc1ccc2ccccc2c1</td>\n",
       "      <td>3.502270000000002</td>\n",
       "      <td>36.21</td>\n",
       "      <td>156.068748256</td>\n",
       "      <td>0.6132715287270338</td>\n",
       "      <td>2</td>\n",
       "      <td>1</td>\n",
       "      <td>0.0001620675093553364</td>\n",
       "      <td>0.000</td>\n",
       "    </tr>\n",
       "    <tr>\n",
       "      <td>21504</td>\n",
       "      <td>Oc1ccccc1C(F)F</td>\n",
       "      <td>2.3297999999999996</td>\n",
       "      <td>20.23</td>\n",
       "      <td>144.038671252</td>\n",
       "      <td>0.6408389716265135</td>\n",
       "      <td>1</td>\n",
       "      <td>1</td>\n",
       "      <td>0.00010093051489332149</td>\n",
       "      <td>0.000</td>\n",
       "    </tr>\n",
       "    <tr>\n",
       "      <td>19165</td>\n",
       "      <td>Nc1ccccc1C(F)F</td>\n",
       "      <td>2.2064000000000004</td>\n",
       "      <td>26.02</td>\n",
       "      <td>143.054655664</td>\n",
       "      <td>0.5990066223887058</td>\n",
       "      <td>1</td>\n",
       "      <td>1</td>\n",
       "      <td>6.228611297893845e-05</td>\n",
       "      <td>0.000</td>\n",
       "    </tr>\n",
       "  </tbody>\n",
       "</table>\n",
       "<p>24281 rows × 9 columns</p>\n",
       "</div>"
      ],
      "text/plain": [
       "                     Smiles                logp   tpsa          molwt  \\\n",
       "19568    CCC(C)=CCCC(C)(C)O  2.8938000000000015  20.23   156.15141526   \n",
       "19945    CCC(C)=CCCC(C)(C)O  2.8938000000000015  20.23   156.15141526   \n",
       "20535  CC(C)=CC(C)CC(C)(C)O  2.7497000000000016  20.23   156.15141526   \n",
       "7134   CC(C)=CC(C)CC(C)(C)O  2.7497000000000007  20.23   156.15141526   \n",
       "19537    CC(C)=CCCC1(O)CCC1   2.647800000000001  20.23  154.135765196   \n",
       "...                     ...                 ...    ...            ...   \n",
       "4226    Oc1ccc(C(F)(F)F)cc1  2.4109999999999996  20.23   162.02924944   \n",
       "1181         Nc1ccccc1C(F)F  2.2064000000000004  26.02  143.054655664   \n",
       "8826      N=Nc1ccc2ccccc2c1   3.502270000000002  36.21  156.068748256   \n",
       "21504        Oc1ccccc1C(F)F  2.3297999999999996  20.23  144.038671252   \n",
       "19165        Nc1ccccc1C(F)F  2.2064000000000004  26.02  143.054655664   \n",
       "\n",
       "                      qed hba hbd      active_probability  i_tanimoto  \n",
       "19568  0.6204269925147669   1   1   0.0006264503832761266       0.670  \n",
       "19945  0.6204269925147667   1   1   0.0006264503832761266       0.670  \n",
       "20535  0.6228561127376835   1   1  1.1249092470390622e-05       0.660  \n",
       "7134   0.6228561127376834   1   1  1.1249092470390622e-05       0.660  \n",
       "19537  0.6194978897239473   1   1   0.0001469893623268397       0.540  \n",
       "...                   ...  ..  ..                     ...         ...  \n",
       "4226   0.6205760233110342   1   1   0.0006168121049267209       0.010  \n",
       "1181   0.5990066223887058   1   1   6.228611297893845e-05       0.000  \n",
       "8826   0.6132715287270338   2   1   0.0001620675093553364       0.000  \n",
       "21504  0.6408389716265135   1   1  0.00010093051489332149       0.000  \n",
       "19165  0.5990066223887058   1   1   6.228611297893845e-05       0.000  \n",
       "\n",
       "[24281 rows x 9 columns]"
      ]
     },
     "execution_count": 34,
     "metadata": {},
     "output_type": "execute_result"
    }
   ],
   "source": [
    "data.sort_values(by='i_tanimoto', ascending=False)"
   ]
  },
  {
   "cell_type": "code",
   "execution_count": 35,
   "id": "bc35b44e-5dac-465b-b649-08371f0575c4",
   "metadata": {},
   "outputs": [
    {
     "data": {
      "text/html": [
       "<div>\n",
       "<style scoped>\n",
       "    .dataframe tbody tr th:only-of-type {\n",
       "        vertical-align: middle;\n",
       "    }\n",
       "\n",
       "    .dataframe tbody tr th {\n",
       "        vertical-align: top;\n",
       "    }\n",
       "\n",
       "    .dataframe thead th {\n",
       "        text-align: right;\n",
       "    }\n",
       "</style>\n",
       "<table border=\"1\" class=\"dataframe\">\n",
       "  <thead>\n",
       "    <tr style=\"text-align: right;\">\n",
       "      <th></th>\n",
       "      <th>Smiles</th>\n",
       "      <th>i_tanimoto</th>\n",
       "    </tr>\n",
       "  </thead>\n",
       "  <tbody>\n",
       "    <tr>\n",
       "      <td>0</td>\n",
       "      <td>Cc1c(O)ccc2c1CCC2</td>\n",
       "      <td>0.030</td>\n",
       "    </tr>\n",
       "    <tr>\n",
       "      <td>1</td>\n",
       "      <td>OCCC1(c2ccccc2)CC1</td>\n",
       "      <td>0.090</td>\n",
       "    </tr>\n",
       "    <tr>\n",
       "      <td>2</td>\n",
       "      <td>Cc1cccc2ccc(O)cc12</td>\n",
       "      <td>0.030</td>\n",
       "    </tr>\n",
       "    <tr>\n",
       "      <td>3</td>\n",
       "      <td>CC1CC(C(C)(C)C)C1(C)O</td>\n",
       "      <td>0.160</td>\n",
       "    </tr>\n",
       "    <tr>\n",
       "      <td>4</td>\n",
       "      <td>CC1=CCC(O)CC1C(C)C</td>\n",
       "      <td>0.300</td>\n",
       "    </tr>\n",
       "    <tr>\n",
       "      <td>...</td>\n",
       "      <td>...</td>\n",
       "      <td>...</td>\n",
       "    </tr>\n",
       "    <tr>\n",
       "      <td>24276</td>\n",
       "      <td>CC1=CC(C)Oc2ccccc21</td>\n",
       "      <td>0.070</td>\n",
       "    </tr>\n",
       "    <tr>\n",
       "      <td>24277</td>\n",
       "      <td>CC(C1CCCC1)C(C)(C)O</td>\n",
       "      <td>0.200</td>\n",
       "    </tr>\n",
       "    <tr>\n",
       "      <td>24278</td>\n",
       "      <td>Cc1cc(C)c(Cl)c(O)c1</td>\n",
       "      <td>0.030</td>\n",
       "    </tr>\n",
       "    <tr>\n",
       "      <td>24279</td>\n",
       "      <td>CC1CC(C)(C)CC(C)(O)C1</td>\n",
       "      <td>0.200</td>\n",
       "    </tr>\n",
       "    <tr>\n",
       "      <td>24280</td>\n",
       "      <td>C=CCC1(O)CCCCC1</td>\n",
       "      <td>0.320</td>\n",
       "    </tr>\n",
       "  </tbody>\n",
       "</table>\n",
       "<p>24281 rows × 2 columns</p>\n",
       "</div>"
      ],
      "text/plain": [
       "                      Smiles  i_tanimoto\n",
       "0          Cc1c(O)ccc2c1CCC2       0.030\n",
       "1         OCCC1(c2ccccc2)CC1       0.090\n",
       "2         Cc1cccc2ccc(O)cc12       0.030\n",
       "3      CC1CC(C(C)(C)C)C1(C)O       0.160\n",
       "4         CC1=CCC(O)CC1C(C)C       0.300\n",
       "...                      ...         ...\n",
       "24276    CC1=CC(C)Oc2ccccc21       0.070\n",
       "24277    CC(C1CCCC1)C(C)(C)O       0.200\n",
       "24278    Cc1cc(C)c(Cl)c(O)c1       0.030\n",
       "24279  CC1CC(C)(C)CC(C)(O)C1       0.200\n",
       "24280        C=CCC1(O)CCCCC1       0.320\n",
       "\n",
       "[24281 rows x 2 columns]"
      ]
     },
     "execution_count": 35,
     "metadata": {},
     "output_type": "execute_result"
    }
   ],
   "source": [
    "data[['Smiles', 'i_tanimoto']]"
   ]
  },
  {
   "cell_type": "code",
   "execution_count": 45,
   "id": "7f9eb44f-86e2-4682-bdf2-c9c6a3d1ec3f",
   "metadata": {},
   "outputs": [],
   "source": [
    "smiles_all = data.drop_duplicates()"
   ]
  },
  {
   "cell_type": "code",
   "execution_count": 49,
   "id": "486d9a90-c701-4e84-9c73-eb2054fb3f2b",
   "metadata": {},
   "outputs": [],
   "source": [
    "smiles_all = smiles_all[['Smiles', 'i_tanimoto']].sort_values(by='i_tanimoto', ascending=False)[:30]\n",
    "#.to_csv(\"linalool+.csv\")"
   ]
  },
  {
   "cell_type": "code",
   "execution_count": 50,
   "id": "26c4ff21-1b77-4a55-8ee3-5af8a9b8ad38",
   "metadata": {},
   "outputs": [
    {
     "data": {
      "text/html": [
       "<div>\n",
       "<style scoped>\n",
       "    .dataframe tbody tr th:only-of-type {\n",
       "        vertical-align: middle;\n",
       "    }\n",
       "\n",
       "    .dataframe tbody tr th {\n",
       "        vertical-align: top;\n",
       "    }\n",
       "\n",
       "    .dataframe thead th {\n",
       "        text-align: right;\n",
       "    }\n",
       "</style>\n",
       "<table border=\"1\" class=\"dataframe\">\n",
       "  <thead>\n",
       "    <tr style=\"text-align: right;\">\n",
       "      <th></th>\n",
       "      <th>Smiles</th>\n",
       "      <th>i_tanimoto</th>\n",
       "    </tr>\n",
       "  </thead>\n",
       "  <tbody>\n",
       "    <tr>\n",
       "      <td>19945</td>\n",
       "      <td>CCC(C)=CCCC(C)(C)O</td>\n",
       "      <td>0.670</td>\n",
       "    </tr>\n",
       "    <tr>\n",
       "      <td>7134</td>\n",
       "      <td>CC(C)=CC(C)CC(C)(C)O</td>\n",
       "      <td>0.660</td>\n",
       "    </tr>\n",
       "    <tr>\n",
       "      <td>4242</td>\n",
       "      <td>CC(C)=CCCC1(O)CCC1</td>\n",
       "      <td>0.540</td>\n",
       "    </tr>\n",
       "    <tr>\n",
       "      <td>14345</td>\n",
       "      <td>CCC=C(C)CCC(C)(C)O</td>\n",
       "      <td>0.520</td>\n",
       "    </tr>\n",
       "    <tr>\n",
       "      <td>18522</td>\n",
       "      <td>CCCC=CC1(O)C=CCC1</td>\n",
       "      <td>0.500</td>\n",
       "    </tr>\n",
       "    <tr>\n",
       "      <td>2711</td>\n",
       "      <td>CCC(C)=CC(O)CC(C)C</td>\n",
       "      <td>0.490</td>\n",
       "    </tr>\n",
       "    <tr>\n",
       "      <td>994</td>\n",
       "      <td>CCC1(O)CC(C=C(C)C)C1</td>\n",
       "      <td>0.490</td>\n",
       "    </tr>\n",
       "    <tr>\n",
       "      <td>14159</td>\n",
       "      <td>CCCCC=CC1(O)CCC1</td>\n",
       "      <td>0.480</td>\n",
       "    </tr>\n",
       "    <tr>\n",
       "      <td>4838</td>\n",
       "      <td>CC1(O)C=CCCCCCC1</td>\n",
       "      <td>0.480</td>\n",
       "    </tr>\n",
       "    <tr>\n",
       "      <td>127</td>\n",
       "      <td>CCCC=CC1(O)CCCC1</td>\n",
       "      <td>0.480</td>\n",
       "    </tr>\n",
       "    <tr>\n",
       "      <td>18836</td>\n",
       "      <td>CC(C)=CC1(O)CC(C)(C)C1</td>\n",
       "      <td>0.470</td>\n",
       "    </tr>\n",
       "    <tr>\n",
       "      <td>22632</td>\n",
       "      <td>CC1=CC(C)(O)CCCCC1</td>\n",
       "      <td>0.470</td>\n",
       "    </tr>\n",
       "    <tr>\n",
       "      <td>10786</td>\n",
       "      <td>C=CC=CC1C=CC(C)(O)C1</td>\n",
       "      <td>0.460</td>\n",
       "    </tr>\n",
       "    <tr>\n",
       "      <td>3404</td>\n",
       "      <td>CC1C=CC(C)(O)CCCC1</td>\n",
       "      <td>0.460</td>\n",
       "    </tr>\n",
       "    <tr>\n",
       "      <td>3811</td>\n",
       "      <td>CC(C)=CC1(O)CCCCC1</td>\n",
       "      <td>0.450</td>\n",
       "    </tr>\n",
       "    <tr>\n",
       "      <td>13476</td>\n",
       "      <td>CCC(C)=CC1(O)CCCC1</td>\n",
       "      <td>0.450</td>\n",
       "    </tr>\n",
       "    <tr>\n",
       "      <td>6182</td>\n",
       "      <td>CC(C)C=CC1(O)CCCC1</td>\n",
       "      <td>0.440</td>\n",
       "    </tr>\n",
       "    <tr>\n",
       "      <td>15962</td>\n",
       "      <td>CC(C)=CC1CCC(C)(O)C1</td>\n",
       "      <td>0.440</td>\n",
       "    </tr>\n",
       "    <tr>\n",
       "      <td>23664</td>\n",
       "      <td>OC1(C=C2CCCC2)CCC1</td>\n",
       "      <td>0.440</td>\n",
       "    </tr>\n",
       "    <tr>\n",
       "      <td>122</td>\n",
       "      <td>CC(C)(O)CCC1=CCCC1</td>\n",
       "      <td>0.440</td>\n",
       "    </tr>\n",
       "    <tr>\n",
       "      <td>4440</td>\n",
       "      <td>CC=CCCC1(O)CCCC1</td>\n",
       "      <td>0.440</td>\n",
       "    </tr>\n",
       "    <tr>\n",
       "      <td>14000</td>\n",
       "      <td>CCC(C)=CC(C)(O)C1CC1</td>\n",
       "      <td>0.440</td>\n",
       "    </tr>\n",
       "    <tr>\n",
       "      <td>15854</td>\n",
       "      <td>C=C(C)C(C)(O)CC1C=C1C</td>\n",
       "      <td>0.430</td>\n",
       "    </tr>\n",
       "  </tbody>\n",
       "</table>\n",
       "</div>"
      ],
      "text/plain": [
       "                       Smiles  i_tanimoto\n",
       "19945      CCC(C)=CCCC(C)(C)O       0.670\n",
       "7134     CC(C)=CC(C)CC(C)(C)O       0.660\n",
       "4242       CC(C)=CCCC1(O)CCC1       0.540\n",
       "14345      CCC=C(C)CCC(C)(C)O       0.520\n",
       "18522       CCCC=CC1(O)C=CCC1       0.500\n",
       "2711       CCC(C)=CC(O)CC(C)C       0.490\n",
       "994      CCC1(O)CC(C=C(C)C)C1       0.490\n",
       "14159        CCCCC=CC1(O)CCC1       0.480\n",
       "4838         CC1(O)C=CCCCCCC1       0.480\n",
       "127          CCCC=CC1(O)CCCC1       0.480\n",
       "18836  CC(C)=CC1(O)CC(C)(C)C1       0.470\n",
       "22632      CC1=CC(C)(O)CCCCC1       0.470\n",
       "10786    C=CC=CC1C=CC(C)(O)C1       0.460\n",
       "3404       CC1C=CC(C)(O)CCCC1       0.460\n",
       "3811       CC(C)=CC1(O)CCCCC1       0.450\n",
       "13476      CCC(C)=CC1(O)CCCC1       0.450\n",
       "6182       CC(C)C=CC1(O)CCCC1       0.440\n",
       "15962    CC(C)=CC1CCC(C)(O)C1       0.440\n",
       "23664      OC1(C=C2CCCC2)CCC1       0.440\n",
       "122        CC(C)(O)CCC1=CCCC1       0.440\n",
       "4440         CC=CCCC1(O)CCCC1       0.440\n",
       "14000    CCC(C)=CC(C)(O)C1CC1       0.440\n",
       "15854   C=C(C)C(C)(O)CC1C=C1C       0.430"
      ]
     },
     "execution_count": 50,
     "metadata": {},
     "output_type": "execute_result"
    }
   ],
   "source": [
    "smiles_all.drop_duplicates()"
   ]
  },
  {
   "cell_type": "code",
   "execution_count": 40,
   "id": "2a74e9ff-fb9b-49cf-a8f4-2115488e827f",
   "metadata": {},
   "outputs": [
    {
     "data": {
      "image/png": "[encoded data removed]",
      "text/plain": [
       "<rdkit.Chem.rdchem.Mol at 0x148ce0363850>"
      ]
     },
     "execution_count": 40,
     "metadata": {},
     "output_type": "execute_result"
    }
   ],
   "source": [
    "Chem.MolFromSmiles(smiles_target)"
   ]
  },
  {
   "cell_type": "code",
   "execution_count": 52,
   "id": "7552e417-1ec5-4923-a7f1-2534664bf1d1",
   "metadata": {},
   "outputs": [
    {
     "data": {
      "text/plain": [
       "19945        CCC(C)=CCCC(C)(C)O\n",
       "7134       CC(C)=CC(C)CC(C)(C)O\n",
       "4242         CC(C)=CCCC1(O)CCC1\n",
       "14345        CCC=C(C)CCC(C)(C)O\n",
       "18522         CCCC=CC1(O)C=CCC1\n",
       "2711         CCC(C)=CC(O)CC(C)C\n",
       "994        CCC1(O)CC(C=C(C)C)C1\n",
       "14159          CCCCC=CC1(O)CCC1\n",
       "4838           CC1(O)C=CCCCCCC1\n",
       "127            CCCC=CC1(O)CCCC1\n",
       "18836    CC(C)=CC1(O)CC(C)(C)C1\n",
       "22632        CC1=CC(C)(O)CCCCC1\n",
       "10786      C=CC=CC1C=CC(C)(O)C1\n",
       "3404         CC1C=CC(C)(O)CCCC1\n",
       "3811         CC(C)=CC1(O)CCCCC1\n",
       "13476        CCC(C)=CC1(O)CCCC1\n",
       "6182         CC(C)C=CC1(O)CCCC1\n",
       "15962      CC(C)=CC1CCC(C)(O)C1\n",
       "23664        OC1(C=C2CCCC2)CCC1\n",
       "122          CC(C)(O)CCC1=CCCC1\n",
       "4440           CC=CCCC1(O)CCCC1\n",
       "14000      CCC(C)=CC(C)(O)C1CC1\n",
       "15854     C=C(C)C(C)(O)CC1C=C1C\n",
       "Name: Smiles, dtype: object"
      ]
     },
     "execution_count": 52,
     "metadata": {},
     "output_type": "execute_result"
    }
   ],
   "source": [
    "smiles_all.Smiles.drop_duplicates()"
   ]
  },
  {
   "cell_type": "code",
   "execution_count": 53,
   "id": "1e46c75e-98a6-496d-b1b5-8c85abf9839e",
   "metadata": {},
   "outputs": [
    {
     "data": {
      "image/png": "[encoded data removed]",
      "text/plain": [
       "<rdkit.Chem.rdchem.Mol at 0x148cddfd40d0>"
      ]
     },
     "execution_count": 53,
     "metadata": {},
     "output_type": "execute_result"
    }
   ],
   "source": [
    "Chem.MolFromSmiles(smiles_all.Smiles[7134])"
   ]
  },
  {
   "cell_type": "code",
   "execution_count": 17,
   "id": "bd0f27e4-64c6-4a7b-ad0b-53cba02569d4",
   "metadata": {},
   "outputs": [
    {
     "data": {
      "image/png": "[encoded data removed]",
      "text/plain": [
       "<rdkit.Chem.rdchem.Mol at 0x148ce3f53710>"
      ]
     },
     "execution_count": 17,
     "metadata": {},
     "output_type": "execute_result"
    }
   ],
   "source": [
    "Chem.MolFromSmiles(smiles_all.Smiles[12431])"
   ]
  },
  {
   "cell_type": "code",
   "execution_count": 18,
   "id": "3acda769-e10c-43ac-a0ff-ce95fcfdea02",
   "metadata": {},
   "outputs": [
    {
     "data": {
      "image/png": "[encoded data removed]",
      "text/plain": [
       "<rdkit.Chem.rdchem.Mol at 0x148ce5ac4490>"
      ]
     },
     "execution_count": 18,
     "metadata": {},
     "output_type": "execute_result"
    }
   ],
   "source": [
    "mol"
   ]
  },
  {
   "cell_type": "code",
   "execution_count": 19,
   "id": "49a5926f-9c65-4014-a9f4-cbbe4bfd3a3f",
   "metadata": {},
   "outputs": [
    {
     "data": {
      "text/plain": [
       "True"
      ]
     },
     "execution_count": 19,
     "metadata": {},
     "output_type": "execute_result"
    }
   ],
   "source": [
    "Chem.MolFromSmiles(\"C=CC(C)(O)CCC=C(C)C\").HasSubstructMatch(mol)"
   ]
  },
  {
   "cell_type": "code",
   "execution_count": 28,
   "id": "7bafe856-0f6b-4bc1-8e07-02b8b05f38eb",
   "metadata": {},
   "outputs": [
    {
     "data": {
      "image/png": "[encoded data removed]",
      "text/plain": [
       "<rdkit.Chem.rdchem.Mol at 0x148ce3056e90>"
      ]
     },
     "execution_count": 28,
     "metadata": {},
     "output_type": "execute_result"
    }
   ],
   "source": [
    "Chem.MolFromSmiles(\"CC=CC(O)CCC=C(C)C\")"
   ]
  },
  {
   "cell_type": "code",
   "execution_count": 20,
   "id": "45b7449c-06fe-4643-b575-8e2c1f12c6de",
   "metadata": {},
   "outputs": [],
   "source": [
    "lista = [Chem.MolFromSmiles(x) for x in smiles_all.Smiles]"
   ]
  },
  {
   "cell_type": "code",
   "execution_count": 21,
   "id": "24d56713-0c09-4bdc-b3fe-e12a10aed174",
   "metadata": {},
   "outputs": [
    {
     "data": {
      "text/plain": [
       "2"
      ]
     },
     "execution_count": 21,
     "metadata": {},
     "output_type": "execute_result"
    }
   ],
   "source": [
    "subms = [x for x in lista if x.HasSubstructMatch(mol)]\n",
    "subms.append(mol)\n",
    "len(subms)"
   ]
  },
  {
   "cell_type": "code",
   "execution_count": 22,
   "id": "4b73c701-f292-4a0e-b64b-2164dc6d14ed",
   "metadata": {},
   "outputs": [
    {
     "data": {
      "text/plain": [
       "0"
      ]
     },
     "execution_count": 22,
     "metadata": {},
     "output_type": "execute_result"
    }
   ],
   "source": [
    "AllChem.Compute2DCoords(mol)"
   ]
  },
  {
   "cell_type": "code",
   "execution_count": 30,
   "id": "92efdac9-7c9d-488c-882f-a35b8f600f8d",
   "metadata": {},
   "outputs": [],
   "source": [
    "for m in subms:\n",
    "  _ = AllChem.GenerateDepictionMatching2DStructure(m,mol)\n",
    "img=Draw.MolsToGridImage(subms,molsPerRow=2,subImgSize=(200,200), legends=['Composto 1', 'Linalool'])    \n",
    "img\n",
    "img.save('composto_semelhante.png') "
   ]
  }
 ],
 "metadata": {
  "kernelspec": {
   "display_name": "Python 3.6.7 DDC",
   "language": "python",
   "name": "myenv"
  },
  "language_info": {
   "codemirror_mode": {
    "name": "ipython",
    "version": 3
   },
   "file_extension": ".py",
   "mimetype": "text/x-python",
   "name": "python",
   "nbconvert_exporter": "python",
   "pygments_lexer": "ipython3",
   "version": "3.6.7"
  }
 },
 "nbformat": 4,
 "nbformat_minor": 5
}
